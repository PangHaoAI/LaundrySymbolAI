{
  "nbformat": 4,
  "nbformat_minor": 0,
  "metadata": {
    "colab": {
      "name": "LaundrySymbolAITraining.ipynb",
      "provenance": [],
      "collapsed_sections": [],
      "toc_visible": true,
      "include_colab_link": true
    },
    "kernelspec": {
      "name": "python3",
      "display_name": "Python 3"
    }
  },
  "cells": [
    {
      "cell_type": "markdown",
      "metadata": {
        "id": "view-in-github",
        "colab_type": "text"
      },
      "source": [
        "<a href=\"https://colab.research.google.com/github/szut-thiel/LaundrySymbolAI/blob/master/LaundrySymbolAITraining.ipynb\" target=\"_parent\"><img src=\"https://colab.research.google.com/assets/colab-badge.svg\" alt=\"Open In Colab\"/></a>"
      ]
    },
    {
      "cell_type": "markdown",
      "metadata": {
        "id": "afYZHnF-sFGn",
        "colab_type": "text"
      },
      "source": [
        "\n",
        "### **Installing Modules on Notebook**\n",
        "All used modules will be installed and imported"
      ]
    },
    {
      "cell_type": "code",
      "metadata": {
        "id": "bd8CpjdBrls_",
        "colab_type": "code",
        "outputId": "b4588c20-b8bb-4c51-b819-bffc4b1c2a19",
        "colab": {
          "base_uri": "https://localhost:8080/",
          "height": 877
        }
      },
      "source": [
        "# installing modules for tensorflow\n",
        "!pip install tensorflow==2.0 mnist pillow\n",
        "\n",
        "# installing modules for computer vision\n",
        "!pip install svglib\n",
        "!pip install reportlab\n",
        "\n",
        "\n",
        "import tensorflow as tf\n",
        "import numpy as np  # used to prepare data for tensorflow\n",
        "import matplotlib.pyplot as plt  # used to plot images for debugging\n",
        "import mnist  # TODO: remove after substitution of mnist Sequence class\n",
        "\n",
        "import os  # used for actions on filesystem \n",
        "import random  # used for splitting trainings set\n",
        "import math  # used for splitting trainings set\n",
        "\n",
        "# computer vision\n",
        "from pathlib import Path\n",
        "from PIL import Image\n",
        "import shutil\n",
        "import errno\n",
        "import cv2\n",
        "import numpy\n",
        "from svglib.svglib import svg2rlg\n",
        "from reportlab.graphics import renderPM\n",
        "\n",
        "# restarting runtime\n",
        "# os.kill(os.getpid(), 9)"
      ],
      "execution_count": 1,
      "outputs": [
        {
          "output_type": "stream",
          "text": [
            "Requirement already satisfied: tensorflow==2.0 in /usr/local/lib/python3.6/dist-packages (2.0.0)\n",
            "Requirement already satisfied: mnist in /usr/local/lib/python3.6/dist-packages (0.2.2)\n",
            "Requirement already satisfied: pillow in /usr/local/lib/python3.6/dist-packages (6.2.2)\n",
            "Requirement already satisfied: keras-applications>=1.0.8 in /usr/local/lib/python3.6/dist-packages (from tensorflow==2.0) (1.0.8)\n",
            "Requirement already satisfied: astor>=0.6.0 in /usr/local/lib/python3.6/dist-packages (from tensorflow==2.0) (0.8.1)\n",
            "Requirement already satisfied: tensorflow-estimator<2.1.0,>=2.0.0 in /usr/local/lib/python3.6/dist-packages (from tensorflow==2.0) (2.0.1)\n",
            "Requirement already satisfied: grpcio>=1.8.6 in /usr/local/lib/python3.6/dist-packages (from tensorflow==2.0) (1.15.0)\n",
            "Requirement already satisfied: wrapt>=1.11.1 in /usr/local/lib/python3.6/dist-packages (from tensorflow==2.0) (1.11.2)\n",
            "Requirement already satisfied: gast==0.2.2 in /usr/local/lib/python3.6/dist-packages (from tensorflow==2.0) (0.2.2)\n",
            "Requirement already satisfied: numpy<2.0,>=1.16.0 in /usr/local/lib/python3.6/dist-packages (from tensorflow==2.0) (1.17.5)\n",
            "Requirement already satisfied: protobuf>=3.6.1 in /usr/local/lib/python3.6/dist-packages (from tensorflow==2.0) (3.10.0)\n",
            "Requirement already satisfied: wheel>=0.26 in /usr/local/lib/python3.6/dist-packages (from tensorflow==2.0) (0.33.6)\n",
            "Requirement already satisfied: absl-py>=0.7.0 in /usr/local/lib/python3.6/dist-packages (from tensorflow==2.0) (0.9.0)\n",
            "Requirement already satisfied: google-pasta>=0.1.6 in /usr/local/lib/python3.6/dist-packages (from tensorflow==2.0) (0.1.8)\n",
            "Requirement already satisfied: opt-einsum>=2.3.2 in /usr/local/lib/python3.6/dist-packages (from tensorflow==2.0) (3.1.0)\n",
            "Requirement already satisfied: six>=1.10.0 in /usr/local/lib/python3.6/dist-packages (from tensorflow==2.0) (1.12.0)\n",
            "Requirement already satisfied: keras-preprocessing>=1.0.5 in /usr/local/lib/python3.6/dist-packages (from tensorflow==2.0) (1.1.0)\n",
            "Requirement already satisfied: tensorboard<2.1.0,>=2.0.0 in /usr/local/lib/python3.6/dist-packages (from tensorflow==2.0) (2.0.2)\n",
            "Requirement already satisfied: termcolor>=1.1.0 in /usr/local/lib/python3.6/dist-packages (from tensorflow==2.0) (1.1.0)\n",
            "Requirement already satisfied: h5py in /usr/local/lib/python3.6/dist-packages (from keras-applications>=1.0.8->tensorflow==2.0) (2.8.0)\n",
            "Requirement already satisfied: setuptools in /usr/local/lib/python3.6/dist-packages (from protobuf>=3.6.1->tensorflow==2.0) (42.0.2)\n",
            "Requirement already satisfied: werkzeug>=0.11.15 in /usr/local/lib/python3.6/dist-packages (from tensorboard<2.1.0,>=2.0.0->tensorflow==2.0) (0.16.0)\n",
            "Requirement already satisfied: google-auth<2,>=1.6.3 in /usr/local/lib/python3.6/dist-packages (from tensorboard<2.1.0,>=2.0.0->tensorflow==2.0) (1.10.1)\n",
            "Requirement already satisfied: markdown>=2.6.8 in /usr/local/lib/python3.6/dist-packages (from tensorboard<2.1.0,>=2.0.0->tensorflow==2.0) (3.1.1)\n",
            "Requirement already satisfied: requests<3,>=2.21.0 in /usr/local/lib/python3.6/dist-packages (from tensorboard<2.1.0,>=2.0.0->tensorflow==2.0) (2.21.0)\n",
            "Requirement already satisfied: google-auth-oauthlib<0.5,>=0.4.1 in /usr/local/lib/python3.6/dist-packages (from tensorboard<2.1.0,>=2.0.0->tensorflow==2.0) (0.4.1)\n",
            "Requirement already satisfied: pyasn1-modules>=0.2.1 in /usr/local/lib/python3.6/dist-packages (from google-auth<2,>=1.6.3->tensorboard<2.1.0,>=2.0.0->tensorflow==2.0) (0.2.7)\n",
            "Requirement already satisfied: cachetools<5.0,>=2.0.0 in /usr/local/lib/python3.6/dist-packages (from google-auth<2,>=1.6.3->tensorboard<2.1.0,>=2.0.0->tensorflow==2.0) (4.0.0)\n",
            "Requirement already satisfied: rsa<4.1,>=3.1.4 in /usr/local/lib/python3.6/dist-packages (from google-auth<2,>=1.6.3->tensorboard<2.1.0,>=2.0.0->tensorflow==2.0) (4.0)\n",
            "Requirement already satisfied: certifi>=2017.4.17 in /usr/local/lib/python3.6/dist-packages (from requests<3,>=2.21.0->tensorboard<2.1.0,>=2.0.0->tensorflow==2.0) (2019.11.28)\n",
            "Requirement already satisfied: urllib3<1.25,>=1.21.1 in /usr/local/lib/python3.6/dist-packages (from requests<3,>=2.21.0->tensorboard<2.1.0,>=2.0.0->tensorflow==2.0) (1.24.3)\n",
            "Requirement already satisfied: idna<2.9,>=2.5 in /usr/local/lib/python3.6/dist-packages (from requests<3,>=2.21.0->tensorboard<2.1.0,>=2.0.0->tensorflow==2.0) (2.8)\n",
            "Requirement already satisfied: chardet<3.1.0,>=3.0.2 in /usr/local/lib/python3.6/dist-packages (from requests<3,>=2.21.0->tensorboard<2.1.0,>=2.0.0->tensorflow==2.0) (3.0.4)\n",
            "Requirement already satisfied: requests-oauthlib>=0.7.0 in /usr/local/lib/python3.6/dist-packages (from google-auth-oauthlib<0.5,>=0.4.1->tensorboard<2.1.0,>=2.0.0->tensorflow==2.0) (1.3.0)\n",
            "Requirement already satisfied: pyasn1<0.5.0,>=0.4.6 in /usr/local/lib/python3.6/dist-packages (from pyasn1-modules>=0.2.1->google-auth<2,>=1.6.3->tensorboard<2.1.0,>=2.0.0->tensorflow==2.0) (0.4.8)\n",
            "Requirement already satisfied: oauthlib>=3.0.0 in /usr/local/lib/python3.6/dist-packages (from requests-oauthlib>=0.7.0->google-auth-oauthlib<0.5,>=0.4.1->tensorboard<2.1.0,>=2.0.0->tensorflow==2.0) (3.1.0)\n",
            "Requirement already satisfied: svglib in /usr/local/lib/python3.6/dist-packages (0.9.3)\n",
            "Requirement already satisfied: tinycss2>=0.6.0 in /usr/local/lib/python3.6/dist-packages (from svglib) (1.0.2)\n",
            "Requirement already satisfied: lxml in /usr/local/lib/python3.6/dist-packages (from svglib) (4.2.6)\n",
            "Requirement already satisfied: reportlab in /usr/local/lib/python3.6/dist-packages (from svglib) (3.5.34)\n",
            "Requirement already satisfied: cssselect2>=0.2.0 in /usr/local/lib/python3.6/dist-packages (from svglib) (0.2.2)\n",
            "Requirement already satisfied: webencodings>=0.4 in /usr/local/lib/python3.6/dist-packages (from tinycss2>=0.6.0->svglib) (0.5.1)\n",
            "Requirement already satisfied: setuptools>=39.2.0 in /usr/local/lib/python3.6/dist-packages (from tinycss2>=0.6.0->svglib) (42.0.2)\n",
            "Requirement already satisfied: pillow>=4.0.0 in /usr/local/lib/python3.6/dist-packages (from reportlab->svglib) (6.2.2)\n",
            "Requirement already satisfied: reportlab in /usr/local/lib/python3.6/dist-packages (3.5.34)\n",
            "Requirement already satisfied: pillow>=4.0.0 in /usr/local/lib/python3.6/dist-packages (from reportlab) (6.2.2)\n"
          ],
          "name": "stdout"
        }
      ]
    },
    {
      "cell_type": "markdown",
      "metadata": {
        "id": "K9USt46-4c3M",
        "colab_type": "text"
      },
      "source": [
        "### **Preparing Trainings Data**\n"
      ]
    },
    {
      "cell_type": "code",
      "metadata": {
        "id": "krcZwBxF4ttd",
        "colab_type": "code",
        "outputId": "f71650ac-3691-4165-c97c-01ea5933a7a0",
        "colab": {
          "base_uri": "https://localhost:8080/",
          "height": 329
        }
      },
      "source": [
        "# Before launching the preparation of trainings data, a zipped directory named\n",
        "# raw_images_lite.zip including the directory raw_images_lite with inner\n",
        "# directories of all categories with images and license file has to uploaded to\n",
        "# the github repository.\n",
        "\n",
        "# updating set of images by deleting old set, downloading and unzipping new set\n",
        "!rm -rf raw_images_lite training_lite\n",
        "!wget https://raw.github.com/szut-thiel/LaundrySymbolAI/master/raw_images_lite.zip \n",
        "!unzip -q raw_images_lite.zip\n",
        "!rm -rf raw_images_lite.zip training.zip\n",
        "\n",
        "\n",
        "SOURCE = \"raw_images_lite\"\n",
        "TRAINING_IMAGES = \"training_lite\"\n",
        "IMAGE_WIDTH = 32\n",
        "NUMBER_OF_ORIENTATIONS = 72\n",
        "\n",
        "# preparing trainings data\n",
        "def prepare_training(source, target):\n",
        "  # if trainings data already exist, remove them before calculating new one\n",
        "  if os.path.exists(target):\n",
        "    shutil.rmtree(target)\n",
        "\n",
        "  # copying downloaded raw images to the new training directory\n",
        "  try:\n",
        "    shutil.copytree(source, target)\n",
        "  except OSError as error:\n",
        "    if error.errno == errno.ENOTDIR:\n",
        "      shutil.copy(source, target)\n",
        "    else:\n",
        "      raise\n",
        "\n",
        "  # preparing all raw images for trainging\n",
        "  for path, directories, files in os.walk(target):\n",
        "    for directory in directories:\n",
        "      prepare_category(path, directory)\n",
        "\n",
        "\n",
        "# preparing all images of one category\n",
        "def prepare_category(path, category):\n",
        "  index = 0\n",
        "  for path, directories, files in os.walk(os.path.join(path, category)):\n",
        "    for file in files:\n",
        "      prepare_image(os.path.join(path, file), category, index)\n",
        "      index += 1\n",
        "\n",
        "\n",
        "# preparing one image\n",
        "def prepare_image(path, category, index):\n",
        "  try:\n",
        "    png_path = path\n",
        "\n",
        "    # converting svg images to png images\n",
        "    if path.endswith(\".svg\"):\n",
        "      png_path = \"{}png\".format(path[:-3])\n",
        "      svg = svg2rlg(path)\n",
        "      renderPM.drawToFile(svg, png_path, fmt=\"PNG\")\n",
        "      os.remove(path)\n",
        "\n",
        "    # loading png image\n",
        "    image = load_image(png_path)\n",
        "    \n",
        "    # converting image to grayscale image\n",
        "    image = grayscale_image(image)\n",
        "\n",
        "    # extending image to square\n",
        "    image = square_image(image)\n",
        "\n",
        "    # scaling image\n",
        "    image = scale_image(image, IMAGE_WIDTH, IMAGE_WIDTH)\n",
        "\n",
        "    # rotating image\n",
        "    for angle in range(0, 360, 360 // NUMBER_OF_ORIENTATIONS):\n",
        "      # thresholded_image = threshold_image(image) # FIXME: remove?\n",
        "      rotated_image = rotate_image(image, angle)\n",
        "\n",
        "      prepared_path = os.path.join(os.path.dirname(path),\n",
        "                                   \"{}.{}.a{:03d}.png\".format(category, index, angle))\n",
        "\n",
        "      # prepared_path = \"{}.a{:03d}.png\".format(path[:-4], angle)\n",
        "      save_image(rotated_image, prepared_path)\n",
        "    \n",
        "    # deleting raw image\n",
        "    os.remove(png_path)\n",
        "\n",
        "  except ValueError as error:\n",
        "    print(error)\n",
        "\n",
        "\n",
        "# convert rgb images to grayscale images\n",
        "def grayscale_image(image):\n",
        "  return cv2.cvtColor(image, cv2.COLOR_BGR2GRAY)\n",
        "\n",
        "\n",
        "# extending images to squared resolution\n",
        "def square_image(image):\n",
        "  w = max(image.shape[0], image.shape[1])\n",
        "  y = (w - image.shape[0]) // 2\n",
        "  x = (w - image.shape[1]) // 2\n",
        "  return cv2.copyMakeBorder(image, y, y, x, x, cv2.BORDER_CONSTANT,\n",
        "                            value=[255, 255, 255])\n",
        "\n",
        "\n",
        "# scaling image\n",
        "def scale_image(image, width, height):\n",
        "  return cv2.resize(image, (width, height), interpolation=cv2.INTER_AREA)\n",
        "\n",
        "\n",
        "# rotating image around center\n",
        "def rotate_image(image, angle):\n",
        "  image_center = tuple(numpy.array(image.shape[1::-1]) / 2)\n",
        "  rotation_matrix = cv2.getRotationMatrix2D(image_center, angle, 1.0)\n",
        "  return cv2.warpAffine(image, rotation_matrix, image.shape[1::-1],\n",
        "                        flags=cv2.INTER_LINEAR, borderValue=(255, 255, 255))\n",
        "  \n",
        "\n",
        "# converting image to black and white image\n",
        "def threshold_image(image, threshold=0.5):\n",
        "  _, threshed = cv2.threshold(image, int(255 * threshold), 255, cv2.THRESH_BINARY)\n",
        "  return threshed\n",
        "\n",
        "\n",
        "# inverting image\n",
        "def invert_image(image):\n",
        "  return cv2.bitwise_not(image)\n",
        "\n",
        "\n",
        "# loading image from file\n",
        "def load_image(path):\n",
        "  return cv2.imread(path, cv2.IMREAD_UNCHANGED)\n",
        "\n",
        "\n",
        "# saving image to file\n",
        "def save_image(image, path):\n",
        "  cv2.imwrite(path, image)\n",
        "\n",
        "\n",
        "prepare_training(SOURCE, TRAINING_IMAGES)\n"
      ],
      "execution_count": 2,
      "outputs": [
        {
          "output_type": "stream",
          "text": [
            "--2020-01-16 14:43:06--  https://raw.github.com/szut-thiel/LaundrySymbolAI/master/raw_images_lite.zip\n",
            "Resolving raw.github.com (raw.github.com)... 151.101.0.133, 151.101.64.133, 151.101.128.133, ...\n",
            "Connecting to raw.github.com (raw.github.com)|151.101.0.133|:443... connected.\n",
            "HTTP request sent, awaiting response... 301 Moved Permanently\n",
            "Location: https://raw.githubusercontent.com/szut-thiel/LaundrySymbolAI/master/raw_images_lite.zip [following]\n",
            "--2020-01-16 14:43:06--  https://raw.githubusercontent.com/szut-thiel/LaundrySymbolAI/master/raw_images_lite.zip\n",
            "Resolving raw.githubusercontent.com (raw.githubusercontent.com)... 151.101.0.133, 151.101.64.133, 151.101.128.133, ...\n",
            "Connecting to raw.githubusercontent.com (raw.githubusercontent.com)|151.101.0.133|:443... connected.\n",
            "HTTP request sent, awaiting response... 200 OK\n",
            "Length: 95500 (93K) [application/zip]\n",
            "Saving to: ‘raw_images_lite.zip’\n",
            "\n",
            "\rraw_images_lite.zip   0%[                    ]       0  --.-KB/s               \rraw_images_lite.zip 100%[===================>]  93.26K  --.-KB/s    in 0.02s   \n",
            "\n",
            "2020-01-16 14:43:07 (3.78 MB/s) - ‘raw_images_lite.zip’ saved [95500/95500]\n",
            "\n"
          ],
          "name": "stdout"
        }
      ]
    },
    {
      "cell_type": "markdown",
      "metadata": {
        "id": "ifNpS18mwXb4",
        "colab_type": "text"
      },
      "source": [
        ""
      ]
    },
    {
      "cell_type": "markdown",
      "metadata": {
        "id": "f3iZtTfv0f6l",
        "colab_type": "text"
      },
      "source": [
        "### **Loading Training Set to Numpy-Array FIXME: substitute by preparation pipeline: opencv and numpy at once**\n"
      ]
    },
    {
      "cell_type": "code",
      "metadata": {
        "id": "0mG0lGdS0pJj",
        "colab_type": "code",
        "colab": {}
      },
      "source": [
        "TRAINING_PERCENTAGE = 0.7 # between 0 and 1\n",
        "\n",
        "\n",
        "# loading image data of file and returning numpy array\n",
        "def load_image_data(path):\n",
        "  image = Image.open(path)\n",
        "  return np.array(image.getdata()).reshape(image.size[1], image.size[0], 1) # FIXME\n",
        "\n",
        "\n",
        "def load_image_data_of_category(path, category):\n",
        "  image_data_of_category = []\n",
        "  for path, directories, files in os.walk(os.path.join(path, category)):\n",
        "    for file in files:\n",
        "      image_data = load_image_data(os.path.join(path, file))\n",
        "      image_data_of_category.append(image_data)\n",
        "  return image_data_of_category\n",
        "\n",
        "\n",
        "def load_training_data(path):\n",
        "  categories = []\n",
        "  training_image_data = []\n",
        "  training_label = []\n",
        "  testing_image_data = []\n",
        "  testing_label = []\n",
        "\n",
        "  for path, directories, files in os.walk(path):\n",
        "    for category in directories:\n",
        "      if category not in categories:\n",
        "        categories.append(category)\n",
        "\n",
        "      image_data = load_image_data_of_category(path, category)\n",
        "      label = [categories.index(category)] * len(image_data)\n",
        "\n",
        "      # shuffling lists\n",
        "      zipped_list = list(zip(image_data, label))\n",
        "      random.shuffle(zipped_list)\n",
        "      (image_data, label) = zip(*zipped_list)\n",
        "      image_data = list(image_data)\n",
        "      label = list(label)\n",
        "\n",
        "      # splitting shuffled tuples and adding them to lists\n",
        "      split_index = math.floor(len(image_data) * TRAINING_PERCENTAGE)\n",
        "\n",
        "      training_image_data += image_data[:split_index]\n",
        "      training_label += label[:split_index]\n",
        "\n",
        "      testing_image_data += image_data[split_index:]      \n",
        "      testing_label += label[split_index:]\n",
        "\n",
        "  return (categories,\n",
        "          training_image_data, training_label,\n",
        "          testing_image_data, testing_label)\n",
        "  \n",
        "\n",
        "(categories,\n",
        " training_image_data, training_label,\n",
        " testing_image_data, testing_label) = load_training_data(TRAINING_IMAGES)\n",
        "\n"
      ],
      "execution_count": 0,
      "outputs": []
    },
    {
      "cell_type": "code",
      "metadata": {
        "id": "QbwWu5HebtnD",
        "colab_type": "code",
        "colab": {}
      },
      "source": [
        ""
      ],
      "execution_count": 0,
      "outputs": []
    },
    {
      "cell_type": "code",
      "metadata": {
        "id": "Usns4G4EdwkW",
        "colab_type": "code",
        "outputId": "eb31a5d6-c92e-4678-d9f7-9552fe0a0021",
        "colab": {
          "base_uri": "https://localhost:8080/",
          "height": 284
        }
      },
      "source": [
        "check_index = random.randint(0, len(training_image_data) - 1)\n",
        "print(\"check: {}\".format(categories[training_label[check_index]]))\n",
        "image = np.resize(training_image_data[check_index], (32, 32))\n",
        "_ = plt.imshow(image)"
      ],
      "execution_count": 5,
      "outputs": [
        {
          "output_type": "stream",
          "text": [
            "check: bleaching_dont\n"
          ],
          "name": "stdout"
        },
        {
          "output_type": "display_data",
          "data": {
            "image/png": "[encoded data removed]",
            "text/plain": [
              "<Figure size 432x288 with 1 Axes>"
            ]
          },
          "metadata": {
            "tags": []
          }
        }
      ]
    },
    {
      "cell_type": "code",
      "metadata": {
        "id": "wQax6xg7dwZ-",
        "colab_type": "code",
        "colab": {}
      },
      "source": [
        ""
      ],
      "execution_count": 0,
      "outputs": []
    },
    {
      "cell_type": "markdown",
      "metadata": {
        "id": "5Qg2H9resntx",
        "colab_type": "text"
      },
      "source": [
        "*italicized text*### **import dataset**"
      ]
    },
    {
      "cell_type": "code",
      "metadata": {
        "id": "hG4g2_9ws-NR",
        "colab_type": "code",
        "outputId": "377b7552-ad35-4f48-b556-59b915307a72",
        "colab": {
          "base_uri": "https://localhost:8080/",
          "height": 492
        }
      },
      "source": [
        "from tensorflow.keras import layers\n",
        "\n",
        "model = tf.keras.Sequential()\n",
        "\n",
        "kernel_size = 8  # was 4\n",
        "\n",
        "model.add(layers.Input(shape=(32, 32, 1)))\n",
        "model.add(layers.Conv2D(6, (kernel_size, kernel_size), activation=tf.nn.relu))\n",
        "model.add(layers.Dropout(0.2))\n",
        "model.add(layers.Conv2D(9, (kernel_size, kernel_size), activation=tf.nn.relu))\n",
        "model.add(layers.Dropout(0.3))\n",
        "model.add(layers.Conv2D(12, (kernel_size, kernel_size), activation=tf.nn.relu))\n",
        "model.add(layers.MaxPooling2D((2, 2), (2, 2)))\n",
        "model.add(layers.Dense(20, activation=tf.nn.relu))\n",
        "model.add(layers.Flatten())\n",
        "model.add(layers.Dense(58, activation=tf.nn.softmax))\n",
        "\n",
        "model.compile(optimizer=\"adam\", loss=\"sparse_categorical_crossentropy\", metrics=[\"mae\", \"accuracy\"])\n",
        "\n",
        "model.summary()"
      ],
      "execution_count": 6,
      "outputs": [
        {
          "output_type": "stream",
          "text": [
            "Model: \"sequential\"\n",
            "_________________________________________________________________\n",
            "Layer (type)                 Output Shape              Param #   \n",
            "=================================================================\n",
            "conv2d (Conv2D)              (None, 25, 25, 6)         390       \n",
            "_________________________________________________________________\n",
            "dropout (Dropout)            (None, 25, 25, 6)         0         \n",
            "_________________________________________________________________\n",
            "conv2d_1 (Conv2D)            (None, 18, 18, 9)         3465      \n",
            "_________________________________________________________________\n",
            "dropout_1 (Dropout)          (None, 18, 18, 9)         0         \n",
            "_________________________________________________________________\n",
            "conv2d_2 (Conv2D)            (None, 11, 11, 12)        6924      \n",
            "_________________________________________________________________\n",
            "max_pooling2d (MaxPooling2D) (None, 5, 5, 12)          0         \n",
            "_________________________________________________________________\n",
            "dense (Dense)                (None, 5, 5, 20)          260       \n",
            "_________________________________________________________________\n",
            "flatten (Flatten)            (None, 500)               0         \n",
            "_________________________________________________________________\n",
            "dense_1 (Dense)              (None, 58)                29058     \n",
            "=================================================================\n",
            "Total params: 40,097\n",
            "Trainable params: 40,097\n",
            "Non-trainable params: 0\n",
            "_________________________________________________________________\n"
          ],
          "name": "stdout"
        }
      ]
    },
    {
      "cell_type": "markdown",
      "metadata": {
        "id": "kDxk40Yqd3rh",
        "colab_type": "text"
      },
      "source": [
        "### **Training**"
      ]
    },
    {
      "cell_type": "code",
      "metadata": {
        "id": "5uTyHFLnd8ac",
        "colab_type": "code",
        "outputId": "b2bed048-bd9b-43bb-9a0e-cff4aeca5fb9",
        "colab": {
          "base_uri": "https://localhost:8080/",
          "height": 264
        }
      },
      "source": [
        "# np.expand_dims(training_image_data, 0)\n",
        "# np.expand_dims(1000, testing_image_data, -1)\n",
        "\n",
        "BATCH_SIZE = 10000\n",
        "\n",
        "print(asnparray(training_image_data.shape)\n",
        "\n",
        "training_image_data = model.predict(np.expand_dims(training_image_data, axis=0), batch_size=BATCH_SIZE)\n",
        "testing_image_data = model.predict(np.expand_dims(testing_image_data, axis=0), batch_size=BATCH_SIZE)\n",
        "\n",
        "history = model.fit(training_image_data, training_label,\n",
        "                    epochs=100,\n",
        "                    batch_size=BATCH_SIZE, \n",
        "                    validation_data=(testing_image_data, testing_label))\n",
        "\n",
        "loss = history.history[\"loss\"]\n",
        "val_loss = history.history[\"val_loss\"]\n",
        "\n",
        "epochs = range(1, len(loss) + 1)\n",
        "\n",
        "plt.plot(epochs, loss, 'g.', label=\"Training Loss\")\n",
        "plt.plot(epochs, val_loss, \"b\", label=\"Validation Loss\")\n",
        "plt.title(\"Training Evaluation\")\n",
        "plt.xlabel(\"Epochs\")\n",
        "plt.ylabel(\"Loss\")\n",
        "plt.legend()\n",
        "\n",
        "plt.show()"
      ],
      "execution_count": 14,
      "outputs": [
        {
          "output_type": "error",
          "ename": "AttributeError",
          "evalue": "ignored",
          "traceback": [
            "\u001b[0;31m---------------------------------------------------------------------------\u001b[0m",
            "\u001b[0;31mAttributeError\u001b[0m                            Traceback (most recent call last)",
            "\u001b[0;32m<ipython-input-14-2d52fafbf335>\u001b[0m in \u001b[0;36m<module>\u001b[0;34m()\u001b[0m\n\u001b[1;32m      2\u001b[0m \u001b[0mBATCH_SIZE\u001b[0m \u001b[0;34m=\u001b[0m \u001b[0;36m10000\u001b[0m\u001b[0;34m\u001b[0m\u001b[0;34m\u001b[0m\u001b[0m\n\u001b[1;32m      3\u001b[0m \u001b[0;34m\u001b[0m\u001b[0m\n\u001b[0;32m----> 4\u001b[0;31m \u001b[0mprint\u001b[0m\u001b[0;34m(\u001b[0m\u001b[0mtraining_image_data\u001b[0m\u001b[0;34m.\u001b[0m\u001b[0mshape\u001b[0m\u001b[0;34m)\u001b[0m\u001b[0;34m\u001b[0m\u001b[0;34m\u001b[0m\u001b[0m\n\u001b[0m\u001b[1;32m      5\u001b[0m \u001b[0;34m\u001b[0m\u001b[0m\n\u001b[1;32m      6\u001b[0m \u001b[0mtraining_image_data\u001b[0m \u001b[0;34m=\u001b[0m \u001b[0mmodel\u001b[0m\u001b[0;34m.\u001b[0m\u001b[0mpredict\u001b[0m\u001b[0;34m(\u001b[0m\u001b[0mnp\u001b[0m\u001b[0;34m.\u001b[0m\u001b[0mexpand_dims\u001b[0m\u001b[0;34m(\u001b[0m\u001b[0mtraining_image_data\u001b[0m\u001b[0;34m,\u001b[0m \u001b[0maxis\u001b[0m\u001b[0;34m=\u001b[0m\u001b[0;36m0\u001b[0m\u001b[0;34m)\u001b[0m\u001b[0;34m,\u001b[0m \u001b[0mbatch_size\u001b[0m\u001b[0;34m=\u001b[0m\u001b[0mBATCH_SIZE\u001b[0m\u001b[0;34m)\u001b[0m\u001b[0;34m\u001b[0m\u001b[0;34m\u001b[0m\u001b[0m\n",
            "\u001b[0;31mAttributeError\u001b[0m: 'list' object has no attribute 'shape'"
          ]
        }
      ]
    },
    {
      "cell_type": "markdown",
      "metadata": {
        "id": "gOO65AKMeBgY",
        "colab_type": "text"
      },
      "source": [
        "### **Testing**"
      ]
    },
    {
      "cell_type": "code",
      "metadata": {
        "id": "lhHaAcqPeDh4",
        "colab_type": "code",
        "outputId": "a30e4827-4d82-43fb-e39e-bc54aba7d861",
        "colab": {
          "base_uri": "https://localhost:8080/",
          "height": 303
        }
      },
      "source": [
        "predictions = model.predict(tf.cast(test_images, tf.float32))\n",
        "\n",
        "image_id = random.randint(0, len(predictions))\n",
        "guess = test_labels[np.argmax(predictions[image_id])]\n",
        "print(\"Guess: \" + str(guess) + \": \" + categories[guess])\n",
        "\n",
        "print(\"Actually: \" + categories[test_labels[image_id]])\n",
        "\n",
        "# the \"_ = \" prevents the object details to be printed out\n",
        "_ = plt.imshow(test_images[image_id].reshape(32, 32))\n"
      ],
      "execution_count": 0,
      "outputs": [
        {
          "output_type": "stream",
          "text": [
            "Guess: 28: bleaching_dont\n",
            "Actually: washing_30_very_gentle\n"
          ],
          "name": "stdout"
        },
        {
          "output_type": "display_data",
          "data": {
            "image/png": "[encoded data removed]",
            "text/plain": [
              "<Figure size 432x288 with 1 Axes>"
            ]
          },
          "metadata": {
            "tags": []
          }
        }
      ]
    },
    {
      "cell_type": "markdown",
      "metadata": {
        "id": "kjIOfyXwyR7U",
        "colab_type": "text"
      },
      "source": [
        "### **Saving and exporting to TF Lite file**"
      ]
    },
    {
      "cell_type": "code",
      "metadata": {
        "id": "iw_HnkQryWC6",
        "colab_type": "code",
        "outputId": "d5111c4d-00e5-499d-d140-57b10062c432",
        "colab": {
          "base_uri": "https://localhost:8080/",
          "height": 35
        }
      },
      "source": [
        "tf.saved_model.save(model, \".\")\n",
        "\n",
        "converter = tf.lite.TFLiteConverter.from_saved_model(\".\")\n",
        "tflite_model = converter.convert()\n",
        "open(\"./assets/laundrysymbol_ai_model.tflite\", \"wb\").write(tflite_model)\n",
        "\n",
        "!rm saved_model.pb"
      ],
      "execution_count": 0,
      "outputs": [
        {
          "output_type": "stream",
          "text": [
            "INFO:tensorflow:Assets written to: ./assets\n"
          ],
          "name": "stdout"
        }
      ]
    }
  ]
}